{
  "nbformat": 4,
  "nbformat_minor": 0,
  "metadata": {
    "colab": {
      "name": "DeepLearning1.ipynb",
      "version": "0.3.2",
      "provenance": [],
      "include_colab_link": true
    },
    "kernelspec": {
      "name": "python3",
      "display_name": "Python 3"
    }
  },
  "cells": [
    {
      "cell_type": "markdown",
      "metadata": {
        "id": "view-in-github",
        "colab_type": "text"
      },
      "source": [
        "<a href=\"https://colab.research.google.com/github/dubesar/Mnist-Character-Prediction-Tenserflow-Deep-neural-Network/blob/master/DeepLearning1.ipynb\" target=\"_parent\"><img src=\"https://colab.research.google.com/assets/colab-badge.svg\" alt=\"Open In Colab\"/></a>"
      ]
    },
    {
      "metadata": {
        "id": "WJrKLDh1FNiT",
        "colab_type": "code",
        "colab": {
          "base_uri": "https://localhost:8080/",
          "height": 3414
        },
        "outputId": "8f8903c8-02be-473d-fdee-af280ab1f5b1"
      },
      "cell_type": "code",
      "source": [
        "import tensorflow as tf\n",
        "\n",
        "mnist = tf.keras.datasets.mnist  #28x28 images of hand-written digits 0-9\n",
        "\n",
        "(x_train,y_train),(x_test,y_test) = mnist.load_data() #load the data\n",
        "#Normalizing the data:\n",
        "x_train = tf.keras.utils.normalize(x_train,axis=1)\n",
        "x_test = tf.keras.utils.normalize(x_test,axis=1)\n",
        "'''\n",
        "Actually we dont have to the normalization compulsory but it affects\n",
        "the output.So we normalize it.\n",
        "'''\n",
        "model = tf.keras.models.Sequential()\n",
        "model.add(tf.keras.layers.Flatten())    #the images are 28x28 and we want them to be in the form of a layer of neural network\n",
        "model.add(tf.keras.layers.Dense(128,activation = tf.nn.relu))   #a layer with 128 neurons and an activation of relu\n",
        "model.add(tf.keras.layers.Dense(128,activation = tf.nn.relu))   #a layer with 128 neurons and an activation of relu\n",
        "model.add(tf.keras.layers.Dense(10,activation = tf.nn.softmax))   #a layer with 10 neurons since we have 10 digits to classify and an activation of softmax bcoz of probability distribution\n",
        "\n",
        "model.compile(optimizer = 'adam',\n",
        "             loss='sparse_categorical_crossentropy',\n",
        "             metrics=['accuracy'])           #omtimizers can be many like sgd etc\n",
        "'''\n",
        "here sparse is used since we have to identify between 0-9 but if \n",
        "it was about cat or not we use only categorical_crossentropy\n",
        "'''\n",
        "\n",
        "model.fit(x_train,y_train,epochs=100)"
      ],
      "execution_count": 5,
      "outputs": [
        {
          "output_type": "stream",
          "text": [
            "Epoch 1/100\n",
            "60000/60000 [==============================] - 7s 118us/step - loss: 0.2615 - acc: 0.9232\n",
            "Epoch 2/100\n",
            "60000/60000 [==============================] - 8s 126us/step - loss: 0.1060 - acc: 0.9673\n",
            "Epoch 3/100\n",
            "60000/60000 [==============================] - 8s 126us/step - loss: 0.0711 - acc: 0.9768\n",
            "Epoch 4/100\n",
            "60000/60000 [==============================] - 7s 124us/step - loss: 0.0535 - acc: 0.9824\n",
            "Epoch 5/100\n",
            "60000/60000 [==============================] - 7s 124us/step - loss: 0.0413 - acc: 0.9864\n",
            "Epoch 6/100\n",
            "60000/60000 [==============================] - 7s 125us/step - loss: 0.0320 - acc: 0.9894\n",
            "Epoch 7/100\n",
            "60000/60000 [==============================] - 7s 124us/step - loss: 0.0266 - acc: 0.9911\n",
            "Epoch 8/100\n",
            "60000/60000 [==============================] - 7s 124us/step - loss: 0.0213 - acc: 0.9929\n",
            "Epoch 9/100\n",
            "60000/60000 [==============================] - 7s 124us/step - loss: 0.0175 - acc: 0.9946\n",
            "Epoch 10/100\n",
            "60000/60000 [==============================] - 7s 120us/step - loss: 0.0165 - acc: 0.9940\n",
            "Epoch 11/100\n",
            "60000/60000 [==============================] - 7s 121us/step - loss: 0.0138 - acc: 0.9957\n",
            "Epoch 12/100\n",
            "60000/60000 [==============================] - 7s 122us/step - loss: 0.0121 - acc: 0.9959\n",
            "Epoch 13/100\n",
            "60000/60000 [==============================] - 7s 125us/step - loss: 0.0115 - acc: 0.9959\n",
            "Epoch 14/100\n",
            "60000/60000 [==============================] - 8s 125us/step - loss: 0.0118 - acc: 0.9960\n",
            "Epoch 15/100\n",
            "60000/60000 [==============================] - 7s 124us/step - loss: 0.0101 - acc: 0.9964\n",
            "Epoch 16/100\n",
            "60000/60000 [==============================] - 7s 124us/step - loss: 0.0094 - acc: 0.9968\n",
            "Epoch 17/100\n",
            "60000/60000 [==============================] - 7s 124us/step - loss: 0.0082 - acc: 0.9973\n",
            "Epoch 18/100\n",
            "60000/60000 [==============================] - 8s 125us/step - loss: 0.0085 - acc: 0.9972\n",
            "Epoch 19/100\n",
            "60000/60000 [==============================] - 8s 125us/step - loss: 0.0073 - acc: 0.9976\n",
            "Epoch 20/100\n",
            "60000/60000 [==============================] - 8s 130us/step - loss: 0.0091 - acc: 0.9970\n",
            "Epoch 21/100\n",
            "60000/60000 [==============================] - 8s 137us/step - loss: 0.0067 - acc: 0.9977\n",
            "Epoch 22/100\n",
            "60000/60000 [==============================] - 8s 127us/step - loss: 0.0088 - acc: 0.9971\n",
            "Epoch 23/100\n",
            "60000/60000 [==============================] - 7s 124us/step - loss: 0.0057 - acc: 0.9980\n",
            "Epoch 24/100\n",
            "60000/60000 [==============================] - 8s 126us/step - loss: 0.0084 - acc: 0.9974\n",
            "Epoch 25/100\n",
            "60000/60000 [==============================] - 8s 127us/step - loss: 0.0063 - acc: 0.9979\n",
            "Epoch 26/100\n",
            "60000/60000 [==============================] - 8s 127us/step - loss: 0.0073 - acc: 0.9975\n",
            "Epoch 27/100\n",
            "60000/60000 [==============================] - 8s 126us/step - loss: 0.0063 - acc: 0.9980\n",
            "Epoch 28/100\n",
            "60000/60000 [==============================] - 8s 126us/step - loss: 0.0067 - acc: 0.9980\n",
            "Epoch 29/100\n",
            "60000/60000 [==============================] - 7s 124us/step - loss: 0.0055 - acc: 0.9984\n",
            "Epoch 30/100\n",
            "60000/60000 [==============================] - 8s 125us/step - loss: 0.0056 - acc: 0.9983\n",
            "Epoch 31/100\n",
            "60000/60000 [==============================] - 7s 125us/step - loss: 0.0052 - acc: 0.9984\n",
            "Epoch 32/100\n",
            "60000/60000 [==============================] - 7s 121us/step - loss: 0.0066 - acc: 0.9980\n",
            "Epoch 33/100\n",
            "60000/60000 [==============================] - 7s 119us/step - loss: 0.0065 - acc: 0.9981\n",
            "Epoch 34/100\n",
            "60000/60000 [==============================] - 8s 128us/step - loss: 0.0055 - acc: 0.9982\n",
            "Epoch 35/100\n",
            "60000/60000 [==============================] - 7s 120us/step - loss: 0.0063 - acc: 0.9981\n",
            "Epoch 36/100\n",
            "60000/60000 [==============================] - 7s 120us/step - loss: 0.0062 - acc: 0.9983\n",
            "Epoch 37/100\n",
            "60000/60000 [==============================] - 7s 119us/step - loss: 0.0051 - acc: 0.9986\n",
            "Epoch 38/100\n",
            "60000/60000 [==============================] - 7s 119us/step - loss: 0.0048 - acc: 0.9987\n",
            "Epoch 39/100\n",
            "60000/60000 [==============================] - 7s 125us/step - loss: 0.0062 - acc: 0.9980\n",
            "Epoch 40/100\n",
            "60000/60000 [==============================] - 8s 126us/step - loss: 0.0046 - acc: 0.9986\n",
            "Epoch 41/100\n",
            "60000/60000 [==============================] - 8s 126us/step - loss: 0.0057 - acc: 0.9984\n",
            "Epoch 42/100\n",
            "60000/60000 [==============================] - 8s 127us/step - loss: 0.0058 - acc: 0.9982\n",
            "Epoch 43/100\n",
            "60000/60000 [==============================] - 8s 127us/step - loss: 0.0056 - acc: 0.9985\n",
            "Epoch 44/100\n",
            "60000/60000 [==============================] - 8s 125us/step - loss: 0.0038 - acc: 0.9989\n",
            "Epoch 45/100\n",
            "60000/60000 [==============================] - 7s 125us/step - loss: 0.0056 - acc: 0.9984\n",
            "Epoch 46/100\n",
            "60000/60000 [==============================] - 8s 126us/step - loss: 0.0049 - acc: 0.9985\n",
            "Epoch 47/100\n",
            "60000/60000 [==============================] - 7s 124us/step - loss: 0.0050 - acc: 0.9988\n",
            "Epoch 48/100\n",
            "60000/60000 [==============================] - 8s 125us/step - loss: 0.0051 - acc: 0.9988\n",
            "Epoch 49/100\n",
            "60000/60000 [==============================] - 7s 124us/step - loss: 0.0050 - acc: 0.9987\n",
            "Epoch 50/100\n",
            "60000/60000 [==============================] - 7s 125us/step - loss: 0.0050 - acc: 0.9987\n",
            "Epoch 51/100\n",
            "60000/60000 [==============================] - 8s 126us/step - loss: 0.0043 - acc: 0.9988\n",
            "Epoch 52/100\n",
            "60000/60000 [==============================] - 7s 121us/step - loss: 0.0042 - acc: 0.9989\n",
            "Epoch 53/100\n",
            "60000/60000 [==============================] - 7s 117us/step - loss: 0.0051 - acc: 0.9986\n",
            "Epoch 54/100\n",
            "60000/60000 [==============================] - 7s 118us/step - loss: 0.0056 - acc: 0.9987\n",
            "Epoch 55/100\n",
            "60000/60000 [==============================] - 7s 118us/step - loss: 0.0053 - acc: 0.9987\n",
            "Epoch 56/100\n",
            "60000/60000 [==============================] - 7s 118us/step - loss: 0.0053 - acc: 0.9986\n",
            "Epoch 57/100\n",
            "60000/60000 [==============================] - 7s 118us/step - loss: 0.0033 - acc: 0.9990\n",
            "Epoch 58/100\n",
            "60000/60000 [==============================] - 7s 119us/step - loss: 0.0043 - acc: 0.9988\n",
            "Epoch 59/100\n",
            "60000/60000 [==============================] - 7s 119us/step - loss: 0.0042 - acc: 0.9988\n",
            "Epoch 60/100\n",
            "60000/60000 [==============================] - 7s 118us/step - loss: 0.0062 - acc: 0.9985\n",
            "Epoch 61/100\n",
            "60000/60000 [==============================] - 7s 117us/step - loss: 0.0021 - acc: 0.9994\n",
            "Epoch 62/100\n",
            "60000/60000 [==============================] - 7s 122us/step - loss: 0.0055 - acc: 0.9986\n",
            "Epoch 63/100\n",
            "60000/60000 [==============================] - 8s 129us/step - loss: 0.0040 - acc: 0.9990\n",
            "Epoch 64/100\n",
            "60000/60000 [==============================] - 7s 118us/step - loss: 0.0045 - acc: 0.9989\n",
            "Epoch 65/100\n",
            "60000/60000 [==============================] - 7s 119us/step - loss: 0.0042 - acc: 0.9988\n",
            "Epoch 66/100\n",
            "60000/60000 [==============================] - 7s 119us/step - loss: 0.0045 - acc: 0.9988\n",
            "Epoch 67/100\n",
            "60000/60000 [==============================] - 7s 120us/step - loss: 0.0038 - acc: 0.9990\n",
            "Epoch 68/100\n",
            "60000/60000 [==============================] - 7s 119us/step - loss: 0.0027 - acc: 0.9994\n",
            "Epoch 69/100\n",
            "60000/60000 [==============================] - 7s 121us/step - loss: 0.0042 - acc: 0.9988\n",
            "Epoch 70/100\n",
            "60000/60000 [==============================] - 7s 120us/step - loss: 0.0046 - acc: 0.9989\n",
            "Epoch 71/100\n",
            "60000/60000 [==============================] - 7s 119us/step - loss: 0.0047 - acc: 0.9988\n",
            "Epoch 72/100\n",
            "60000/60000 [==============================] - 7s 119us/step - loss: 0.0030 - acc: 0.9993\n",
            "Epoch 73/100\n",
            "60000/60000 [==============================] - 7s 123us/step - loss: 0.0054 - acc: 0.9989\n",
            "Epoch 74/100\n",
            "60000/60000 [==============================] - 7s 121us/step - loss: 0.0044 - acc: 0.9990\n",
            "Epoch 75/100\n",
            "60000/60000 [==============================] - 7s 124us/step - loss: 0.0026 - acc: 0.9994\n",
            "Epoch 76/100\n",
            "60000/60000 [==============================] - 8s 130us/step - loss: 0.0050 - acc: 0.9988\n",
            "Epoch 77/100\n",
            "60000/60000 [==============================] - 7s 121us/step - loss: 0.0060 - acc: 0.9987\n",
            "Epoch 78/100\n",
            "60000/60000 [==============================] - 7s 123us/step - loss: 0.0039 - acc: 0.9992\n",
            "Epoch 79/100\n",
            "60000/60000 [==============================] - 7s 121us/step - loss: 0.0025 - acc: 0.9994\n",
            "Epoch 80/100\n",
            "60000/60000 [==============================] - 7s 120us/step - loss: 0.0061 - acc: 0.9986\n",
            "Epoch 81/100\n",
            "60000/60000 [==============================] - 7s 119us/step - loss: 0.0032 - acc: 0.9991\n",
            "Epoch 82/100\n",
            "60000/60000 [==============================] - 7s 119us/step - loss: 0.0036 - acc: 0.9993\n",
            "Epoch 83/100\n",
            "60000/60000 [==============================] - 7s 119us/step - loss: 0.0062 - acc: 0.9984\n",
            "Epoch 84/100\n",
            "60000/60000 [==============================] - 7s 119us/step - loss: 0.0018 - acc: 0.9996\n",
            "Epoch 85/100\n",
            "60000/60000 [==============================] - 7s 119us/step - loss: 0.0035 - acc: 0.9993\n",
            "Epoch 86/100\n",
            "60000/60000 [==============================] - 7s 119us/step - loss: 0.0055 - acc: 0.9987\n",
            "Epoch 87/100\n",
            "60000/60000 [==============================] - 7s 122us/step - loss: 0.0035 - acc: 0.9993\n",
            "Epoch 88/100\n",
            "60000/60000 [==============================] - 7s 119us/step - loss: 0.0044 - acc: 0.9991\n",
            "Epoch 89/100\n",
            "60000/60000 [==============================] - 7s 119us/step - loss: 0.0052 - acc: 0.9987\n",
            "Epoch 90/100\n",
            "60000/60000 [==============================] - 7s 121us/step - loss: 0.0047 - acc: 0.9989\n",
            "Epoch 91/100\n",
            "60000/60000 [==============================] - 7s 121us/step - loss: 0.0048 - acc: 0.9989\n",
            "Epoch 92/100\n",
            "60000/60000 [==============================] - 7s 120us/step - loss: 0.0039 - acc: 0.9991\n",
            "Epoch 93/100\n",
            "60000/60000 [==============================] - 7s 119us/step - loss: 0.0031 - acc: 0.9992\n",
            "Epoch 94/100\n",
            "60000/60000 [==============================] - 7s 119us/step - loss: 0.0054 - acc: 0.9989\n",
            "Epoch 95/100\n",
            "60000/60000 [==============================] - 7s 119us/step - loss: 0.0032 - acc: 0.9993\n",
            "Epoch 96/100\n",
            "60000/60000 [==============================] - 7s 119us/step - loss: 0.0045 - acc: 0.9989\n",
            "Epoch 97/100\n",
            "60000/60000 [==============================] - 7s 117us/step - loss: 0.0031 - acc: 0.9994\n",
            "Epoch 98/100\n",
            "60000/60000 [==============================] - 7s 118us/step - loss: 0.0049 - acc: 0.9990\n",
            "Epoch 99/100\n",
            "60000/60000 [==============================] - 7s 117us/step - loss: 0.0032 - acc: 0.9994\n",
            "Epoch 100/100\n",
            "60000/60000 [==============================] - 7s 119us/step - loss: 0.0040 - acc: 0.9992\n"
          ],
          "name": "stdout"
        },
        {
          "output_type": "execute_result",
          "data": {
            "text/plain": [
              "<tensorflow.python.keras.callbacks.History at 0x7fd1972c2cc0>"
            ]
          },
          "metadata": {
            "tags": []
          },
          "execution_count": 5
        }
      ]
    },
    {
      "metadata": {
        "id": "d9EfwJu1hjFT",
        "colab_type": "code",
        "colab": {
          "base_uri": "https://localhost:8080/",
          "height": 347
        },
        "outputId": "442a40d6-7c31-4bdc-920e-be54029e3b53"
      },
      "cell_type": "code",
      "source": [
        "import matplotlib.pyplot as plt\n",
        "\n",
        "plt.imshow(x_train[0],cmap = plt.cm.binary) #plt.cm.binary makes it a binary image where cm stands for color map\n",
        "plt.show()"
      ],
      "execution_count": 2,
      "outputs": [
        {
          "output_type": "display_data",
          "data": {
            "image/png": "[encoded data removed]",
            "text/plain": [
              "<matplotlib.figure.Figure at 0x7fd19dd64828>"
            ]
          },
          "metadata": {
            "tags": []
          }
        }
      ]
    },
    {
      "metadata": {
        "id": "5L7C0guJh2TZ",
        "colab_type": "code",
        "colab": {
          "base_uri": "https://localhost:8080/",
          "height": 34
        },
        "outputId": "95dc5932-ce4f-44ab-978b-8cb175b8d3f6"
      },
      "cell_type": "code",
      "source": [
        "val_loss,val_acc = model.evaluate(x_test,y_test)"
      ],
      "execution_count": 6,
      "outputs": [
        {
          "output_type": "stream",
          "text": [
            "10000/10000 [==============================] - 0s 35us/step\n"
          ],
          "name": "stdout"
        }
      ]
    },
    {
      "metadata": {
        "id": "L3Q-5YQioZnp",
        "colab_type": "code",
        "colab": {
          "base_uri": "https://localhost:8080/",
          "height": 34
        },
        "outputId": "a4f5472e-a10f-4f12-9e01-ce692bfd7329"
      },
      "cell_type": "code",
      "source": [
        "print(val_loss,val_acc)"
      ],
      "execution_count": 7,
      "outputs": [
        {
          "output_type": "stream",
          "text": [
            "0.22784230042627643 0.9769\n"
          ],
          "name": "stdout"
        }
      ]
    },
    {
      "metadata": {
        "id": "0m_Y4pKAoef2",
        "colab_type": "code",
        "colab": {}
      },
      "cell_type": "code",
      "source": [
        ""
      ],
      "execution_count": 0,
      "outputs": []
    }
  ]
}